{
 "cells": [
  {
   "cell_type": "markdown",
   "metadata": {},
   "source": [
    "# FASTENER Usage Example\n",
    "The example demonstrates how to use FASTENER algorithm for feature selection on a dataset. `scikit-learn`'s breast cancer dataset is used in this demonstration. FASTENER returns a Pareto front of relevant feature sets, where we try to optimize $F_1$ score for a particular number of features.\n",
    "\n",
    "The following steps are shown in the example:\n",
    "* data preparation\n",
    "* feature evaluation function `eval_func` implementation, which is responsible for calculating information gain of a particular feature\n",
    "* setting up the FASTENER (including basic description of the options)\n",
    "* running the FASTENER loop\n",
    "* reading the fastener results"
   ]
  },
  {
   "cell_type": "code",
   "execution_count": 9,
   "metadata": {},
   "outputs": [],
   "source": [
    "# import dataset\n",
    "from sklearn.datasets import load_breast_cancer\n",
    "\n",
    "# import preprocessing tools\n",
    "from sklearn import preprocessing\n",
    "import numpy as np\n",
    "import pandas as pd\n",
    "\n",
    "# import learning/evaluation\n",
    "from sklearn.tree import DecisionTreeClassifier\n",
    "from sklearn.metrics import f1_score\n",
    "from sklearn.model_selection import cross_val_score\n",
    "\n",
    "# typing\n",
    "from typing import Dict, List, Callable, Any, Tuple, Optional, \\\n",
    "    Counter as CounterType, Set\n",
    "\n",
    "# FASTENER specific imports\n",
    "from src.random_utils import shuffle\n",
    "from src import random_utils\n",
    "from src.item import Item, EvalItem, Result, Population, flatten_population, FitnessFunction, \\\n",
    "    Genes, EvalItem, RandomFlipMutationStrategy, RandomEveryoneWithEveryone, \\\n",
    "    IntersectionMating, UnionMating, IntersectionMatingWithInformationGain, \\\n",
    "    IntersectionMatingWithWeightedRandomInformationGain, UnevaluatedPopulation, \\\n",
    "    MatingStrategy, MutationStrategy, MatingSelectionStrategy\n",
    "from src import fastener"
   ]
  },
  {
   "cell_type": "markdown",
   "metadata": {},
   "source": [
    "## Data preparation "
   ]
  },
  {
   "cell_type": "code",
   "execution_count": null,
   "metadata": {},
   "outputs": [],
   "source": [
    "# loading breast cancer dataset\n",
    "# scikit-learn 0.22+ is needed\n",
    "cancer = load_breast_cancer(as_frame=True)\n",
    "X_df = cancer.data\n",
    "y_df = cancer.target\n",
    "\n",
    "# basic dataset split\n",
    "n_sample = X_df.shape[0]\n",
    "n_test = int(n_sample * 0.8)\n",
    "\n",
    "labels_train = y_df.to_numpy()[:n_test]\n",
    "labels_test = y_df.to_numpy()[n_test:]\n",
    "\n",
    "XX_train = X_df.to_numpy()[:n_test, :]\n",
    "XX_test = X_df.to_numpy()[n_test:, :]"
   ]
  },
  {
   "cell_type": "markdown",
   "metadata": {},
   "source": [
    "## Evaluation function "
   ]
  },
  {
   "cell_type": "code",
   "execution_count": null,
   "metadata": {},
   "outputs": [],
   "source": [
    "def eval_fun(model: Any, genes: \"Genes\", shuffle_indices: Optional[List[int]] = None) -> \"Result\":\n",
    "    test_data = XX_test[:, genes]\n",
    "    if shuffle_indices:\n",
    "        test_data = test_data.copy()\n",
    "        for j in shuffle_indices:\n",
    "            shuffle(test_data[:, j])\n",
    "    pred = model.predict(test_data)\n",
    "    res = Result(f1_score(labels_test, pred))\n",
    "    return res"
   ]
  },
  {
   "cell_type": "markdown",
   "metadata": {},
   "source": [
    "## Setting configuration parameters "
   ]
  },
  {
   "cell_type": "code",
   "execution_count": null,
   "metadata": {},
   "outputs": [],
   "source": [
    "number_of_genes = XX_train.shape[1]\n",
    "general_model = DecisionTreeClassifier\n",
    "#output folder name must be changed every time the algorithm is run\n",
    "output_folder_name=\"output\"\n",
    "\n",
    "#to start the algorithm initial_genes or initial_population must be provided\n",
    "initial_genes = [\n",
    "    [0]\n",
    "]\n",
    "\n",
    "# Select mating selection strategies (RandomEveryoneWithEveryone, NoMating) and mating strategy\n",
    "# (UnionMating, IntersectionMating, IntersectionMatingWithInformationGain, IntersectionMatingWithWeightedRandomInformationGain) \n",
    "mating = RandomEveryoneWithEveryone(pool_size=3, mating_strategy=IntersectionMatingWithWeightedRandomInformationGain())\n",
    "\n",
    "# Random mutation (probability of gene mutating: 1 / number_of_genes)\n",
    "mutation = RandomFlipMutationStrategy(1 / number_of_genes)\n",
    "\n",
    "entropy_optimizer = fastener.EntropyOptimizer(\n",
    "    general_model, XX_train, labels_train, eval_fun,\n",
    "    number_of_genes, mating, mutation, initial_genes=initial_genes,\n",
    "    config=fastener.Config(output_folder=output_folder_name, random_seed=2020, reset_to_pareto_rounds=5)\n",
    ")"
   ]
  },
  {
   "cell_type": "markdown",
   "metadata": {},
   "source": [
    "## Running the algorithm"
   ]
  },
  {
   "cell_type": "code",
   "execution_count": null,
   "metadata": {
    "tags": []
   },
   "outputs": [],
   "source": [
    "entropy_optimizer.mainloop()"
   ]
  },
  {
   "cell_type": "markdown",
   "metadata": {},
   "source": [
    "## Reading results"
   ]
  },
  {
   "cell_type": "code",
   "execution_count": null,
   "metadata": {
    "tags": []
   },
   "outputs": [],
   "source": [
    "# read log from last generation\n",
    "object = pd.read_pickle(f'log/{output_folder_name}/generation_1000.pickle')\n",
    "\n",
    "# list of best-scoring EvalItem objects for each number of features\n",
    "best = list(object.front.values())\n",
    "\n",
    "for item in best:\n",
    "    # names of best features\n",
    "    selected_features =X_df.iloc[:, item.genes].columns.tolist()\n",
    "    \n",
    "    X = X_df[selected_features].values.astype(float)\n",
    "    y = y_df.values.astype(float)\n",
    "        \n",
    "    # evaluates each set of features with cross validation\n",
    "    model = DecisionTreeClassifier()\n",
    "    cvs = cross_val_score(model, X, y, cv=10)\n",
    "    print(\"Features:\", selected_features)\n",
    "    print(\"Accuracy: \", cvs.mean(), \" stdev: \", cvs.std(), \"\\n\")"
   ]
  }
 ],
 "metadata": {
  "kernelspec": {
   "display_name": "Python 3",
   "language": "python",
   "name": "python3"
  },
  "language_info": {
   "codemirror_mode": {
    "name": "ipython",
    "version": 3
   },
   "file_extension": ".py",
   "mimetype": "text/x-python",
   "name": "python",
   "nbconvert_exporter": "python",
   "pygments_lexer": "ipython3",
   "version": "3.7.3-final"
  }
 },
 "nbformat": 4,
 "nbformat_minor": 4
}